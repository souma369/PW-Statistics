{
 "cells": [
  {
   "cell_type": "markdown",
   "id": "a156aed7-e860-4945-9668-054b73697c83",
   "metadata": {},
   "source": [
    "#                           Statistics Basic-2"
   ]
  },
  {
   "cell_type": "code",
   "execution_count": null,
   "id": "d64f379e-d03c-43c6-bbe9-3c95eeaed0fa",
   "metadata": {},
   "outputs": [],
   "source": []
  },
  {
   "cell_type": "markdown",
   "id": "c7834101-c0a4-455d-b0fe-9efac2336ea7",
   "metadata": {},
   "source": [
    "# Q.1  What are the three measures of central tendency?"
   ]
  },
  {
   "cell_type": "raw",
   "id": "fbe5b200-0d7b-40b2-a59a-dc47e47b4c30",
   "metadata": {},
   "source": [
    "The three measures of central tendency are:\n",
    "\n",
    "            1. Mean:\n",
    "\n",
    "                    The mean is the most common measure of central tendency. It is calculated by summing up all the values in a dataset and dividing by the number of observations.\n",
    "        \n",
    "                Advanced Concept:\n",
    "                                The mean is sensitive to outliers, meaning that extreme values can heavily influence it. In cases where the data is not normally distributed or \n",
    "                                contains outliers, alternative measures like the median or mode may be more appropriate.\n",
    "\n",
    "            2. Median:\n",
    "\n",
    "                    The median is the middle value in a dataset when the data is sorted in ascending or descending order. If there is an even number of observations, \n",
    "                    the median is the average of the two middle values.\n",
    "\n",
    "                Advanced Concept:\n",
    "                                The median is less affected by extreme values or outliers compared to the mean. It is often preferred when dealing with skewed distributions \n",
    "                                or datasets with outliers.\n",
    "\n",
    "            3. Mode:\n",
    "\n",
    "                    The mode is the value that occurs most frequently in a dataset. A dataset may have one mode (unimodal), more than one mode (multimodal), or no mode at all.\n",
    "\n",
    "                Advanced Concept:\n",
    "                                In some cases, the mode may not provide a meaningful measure of central tendency, especially if there is no clear peak in the distribution.\n",
    "                                Additionally, a dataset can have more than one mode, which is useful in scenarios where multiple values are equally likely.\n",
    "\n",
    "                            \n",
    "                            \n",
    "    These measures are used to summarize the central or typical value of a dataset. Choosing the most appropriate measure depends on the nature of the data and the specific \n",
    "    context of the analysis. Understanding the advanced concepts associated with these measures helps in making informed decisions about which measure is best suited for a given\n",
    "    dataset or research question.\n",
    "\n",
    "\n",
    "\n",
    "\n"
   ]
  },
  {
   "cell_type": "code",
   "execution_count": null,
   "id": "9380a433-93aa-4784-bf64-87471d210bb4",
   "metadata": {},
   "outputs": [],
   "source": []
  },
  {
   "cell_type": "markdown",
   "id": "e0473ba1-b021-40cb-99c4-3a8e5bc6d15b",
   "metadata": {},
   "source": [
    "# Q.2 What is the difference between the mean,median, and mode? How are they used to measure the central tendency of a dataset?"
   ]
  },
  {
   "cell_type": "markdown",
   "id": "951f6b33-7b41-4c6e-9a5b-4b5e8caac9fa",
   "metadata": {},
   "source": [
    "## What is the difference between the mean,median, and mode?"
   ]
  },
  {
   "cell_type": "raw",
   "id": "acc22ce4-b690-4e87-b1e8-2edea30a5efa",
   "metadata": {},
   "source": [
    "The mean, median, and mode are three different measures of central tendency used to describe the center or typical value of a dataset.\n",
    "Here's a brief explanation of the key differences between them:\n",
    "\n",
    "      1. Mean:\n",
    "\n",
    "            a). Calculation:\n",
    "                            The mean is calculated by adding up all the values in a dataset and then dividing by the total number of observations.\n",
    "\n",
    "            b).Sensitivity to Outliers:\n",
    "                                        The mean is sensitive to extreme values or outliers. A single unusually large or small value can significantly affect the mean.\n",
    "\n",
    "            c). Use Case:\n",
    "                        It is often used when the data is normally distributed and there are no extreme values.\n",
    "\n",
    "     2. Median:\n",
    "\n",
    "            a). Calculation: \n",
    "                            The median is the middle value when the data is sorted in ascending or descending order. If there is an even number of observations, the median is\n",
    "                            the average of the two middle values.\n",
    "\n",
    "            b). Robustness to Outliers: \n",
    "                                     The median is less affected by extreme values or outliers compared to the mean. It provides a more robust measure of central tendency in such cases.\n",
    "\n",
    "            c). Use Case: \n",
    "                        It is preferred when dealing with skewed distributions, data with outliers, or ordinal data.\n",
    "\n",
    "     3. Mode:\n",
    "\n",
    "            a). Calculation: \n",
    "                            The mode is the value that occurs most frequently in a dataset.\n",
    "\n",
    "            b). Multimodality: \n",
    "                            A dataset may have one mode (unimodal), more than one mode (multimodal), or no mode at all.\n",
    "\n",
    "            c). Use Case:\n",
    "                      It is useful when identifying the most common category or value in a categorical dataset. In continuous data, it may not always be a meaningful measure.\n",
    "\n",
    "                    \n",
    "                    \n",
    "In summary, the main differences lie in how each measure is calculated and their sensitivity to outliers. The mean is influenced by extreme values, the median is less affected by them,\n",
    "and the mode is focused on identifying the most common value. The choice of which measure to use depends on the nature of the data and the specific context of the analysis.\n",
    "\n",
    "\n",
    "\n",
    "\n"
   ]
  },
  {
   "cell_type": "markdown",
   "id": "89389e2a-a545-4484-8216-149229913396",
   "metadata": {},
   "source": [
    "## How are they used to measure the central tendency of a dataset?"
   ]
  },
  {
   "cell_type": "raw",
   "id": "0ab6ba48-3a7d-4f60-ae6a-fbf2a168f53d",
   "metadata": {},
   "source": [
    "Measures of central tendency (mean, median, and mode) are used to provide a summary or representative value that represents the center of a dataset. \n",
    "Here's how they are used in more detail:\n",
    "\n",
    "      1. Mean:\n",
    "\n",
    "            a). Calculation: \n",
    "                            The mean is calculated by summing up all the values in the dataset and then dividing by the total number of observations.\n",
    "\n",
    "            b). Use: \n",
    "                 It's commonly used in situations where the data is normally distributed and there are no extreme values or outliers. The mean gives an average value\n",
    "                    that best represents the center of the data.\n",
    "\n",
    "            c). Example: \n",
    "                    In a class of 30 students, the average score on a test is calculated by adding up all the individual scores and dividing by 30.\n",
    "\n",
    "\n",
    "     2. Median:\n",
    "\n",
    "            a). Calculation: \n",
    "                          The median is determined by arranging the data in ascending or descending order and finding the middle value. If there's an even number of observations,\n",
    "                         the median is the average of the two middle values.\n",
    "\n",
    "            b). Use: \n",
    "                 It's particularly useful when there are outliers or the data is skewed. The median is not influenced by extreme values, making it a more robust measure of central\n",
    "                 tendency in such cases.\n",
    "\n",
    "            c). Example: \n",
    "                     In a dataset of household incomes, the median income is the value at which half of the households earn less and half earn more.\n",
    "\n",
    "\n",
    "     3. Mode:\n",
    "\n",
    "           a). Calculation:\n",
    "                         The mode is the value that occurs most frequently in the dataset.\n",
    "\n",
    "           b). Use:\n",
    "                    It's employed primarily with categorical data to identify the most common category. In continuous data, finding a mode may not always be meaningful, especially if\n",
    "                   there's no clear mode.\n",
    "\n",
    "            c). Example:\n",
    "                      In a survey asking people about their favorite color, the mode would be the color that received the highest number of votes.\n",
    "\n",
    "\n",
    "\n",
    " Additionally, using a combination of these measures can provide a more comprehensive understanding of the dataset. For example, presenting both the mean and median can give insights \n",
    "into the distribution's shape and the potential presence of outliers. This helps to paint a fuller picture of the central tendency of the data, which is important for making accurate\n",
    "interpretations and decisions based on the information at hand.\n",
    "\n",
    "\n",
    "\n",
    "\n"
   ]
  },
  {
   "cell_type": "code",
   "execution_count": null,
   "id": "99a5cfff-ed69-4e83-bc64-09f70e769a6b",
   "metadata": {},
   "outputs": [],
   "source": []
  },
  {
   "cell_type": "markdown",
   "id": "802113d1-06c5-4341-bdad-329a33b46494",
   "metadata": {},
   "source": [
    "#  Q.3 Measure the three measures of central tendency for the given height data:\n",
    "#       [178,177,176,177,178.2,178,175,179,180,175,178.9,176.2,177,172.5,178,176.5]"
   ]
  },
  {
   "cell_type": "code",
   "execution_count": 1,
   "id": "c60f10c5-06f2-45c2-a4a3-01fff8647ecf",
   "metadata": {},
   "outputs": [],
   "source": [
    "data=[178,177,176,177,178.2,178,175,179,180,175,178.9,176.2,177,172.5,178,176.5]\n"
   ]
  },
  {
   "cell_type": "code",
   "execution_count": 2,
   "id": "d53f6987-b58a-4a25-a371-ea88c7c8eb23",
   "metadata": {},
   "outputs": [],
   "source": [
    "import numpy as np"
   ]
  },
  {
   "cell_type": "code",
   "execution_count": 3,
   "id": "4c4fef6b-50b8-462c-af3d-13c5d35cad2b",
   "metadata": {},
   "outputs": [
    {
     "data": {
      "text/plain": [
       "177.01875"
      ]
     },
     "execution_count": 3,
     "metadata": {},
     "output_type": "execute_result"
    }
   ],
   "source": [
    "np.mean(data)"
   ]
  },
  {
   "cell_type": "code",
   "execution_count": 4,
   "id": "e490ce37-be40-47a1-9d35-c95481542f0d",
   "metadata": {},
   "outputs": [
    {
     "data": {
      "text/plain": [
       "177.0"
      ]
     },
     "execution_count": 4,
     "metadata": {},
     "output_type": "execute_result"
    }
   ],
   "source": [
    "np.median(data)"
   ]
  },
  {
   "cell_type": "code",
   "execution_count": 5,
   "id": "4c5bcf81-db2b-41f4-84e4-63db5583856f",
   "metadata": {},
   "outputs": [
    {
     "name": "stderr",
     "output_type": "stream",
     "text": [
      "/tmp/ipykernel_1009/2800027621.py:2: FutureWarning: Unlike other reduction functions (e.g. `skew`, `kurtosis`), the default behavior of `mode` typically preserves the axis it acts along. In SciPy 1.11.0, this behavior will change: the default value of `keepdims` will become False, the `axis` over which the statistic is taken will be eliminated, and the value None will no longer be accepted. Set `keepdims` to True or False to avoid this warning.\n",
      "  stats.mode(data)\n"
     ]
    },
    {
     "data": {
      "text/plain": [
       "ModeResult(mode=array([177.]), count=array([3]))"
      ]
     },
     "execution_count": 5,
     "metadata": {},
     "output_type": "execute_result"
    }
   ],
   "source": [
    "from scipy import stats\n",
    "stats.mode(data)"
   ]
  },
  {
   "cell_type": "code",
   "execution_count": null,
   "id": "bc8da5bd-4f91-4a45-93c0-3e9e1cdbbf18",
   "metadata": {},
   "outputs": [],
   "source": []
  },
  {
   "cell_type": "markdown",
   "id": "9f414f8b-590a-4e37-ab3d-dbe499238d94",
   "metadata": {},
   "source": [
    "#  Q.4 Find the standard deviation for the given data:\n",
    "#       [178,177,176,177,178.2,178,175,179,180,175,178.9,176.2,177,172.5,178,176.5]"
   ]
  },
  {
   "cell_type": "code",
   "execution_count": 6,
   "id": "7182277e-e0c3-4410-ad1d-715133f2c794",
   "metadata": {},
   "outputs": [],
   "source": [
    "data=[178,177,176,177,178.2,178,175,179,180,175,178.9,176.2,177,172.5,178,176.5]"
   ]
  },
  {
   "cell_type": "code",
   "execution_count": 7,
   "id": "bb4686e5-1fb6-473e-b243-445d557178bc",
   "metadata": {},
   "outputs": [],
   "source": [
    "import numpy as np\n"
   ]
  },
  {
   "cell_type": "code",
   "execution_count": 8,
   "id": "45a46814-fbb3-4575-9287-64ebf701f713",
   "metadata": {},
   "outputs": [
    {
     "data": {
      "text/plain": [
       "1.7885814036548633"
      ]
     },
     "execution_count": 8,
     "metadata": {},
     "output_type": "execute_result"
    }
   ],
   "source": [
    "np.std(data)"
   ]
  },
  {
   "cell_type": "code",
   "execution_count": null,
   "id": "f03b24b6-85f2-4794-bdff-77b80edaa291",
   "metadata": {},
   "outputs": [],
   "source": []
  },
  {
   "cell_type": "markdown",
   "id": "f19f1ffd-8b1e-4a1b-b7ab-04f617b253de",
   "metadata": {},
   "source": [
    "#  Q.5 How are measures of dispersion such as range,variance and standard deviation used to describe the spread of a dataset? Provide an example."
   ]
  },
  {
   "cell_type": "raw",
   "id": "af9f21da-0e2d-41bf-8116-2ca839b1acfd",
   "metadata": {},
   "source": [
    "Measures of dispersion, such as range, variance, and standard deviation, are used to describe the spread or variability of a dataset.\n",
    "They provide insights into how spread out or clustered the data points are around the central tendency (mean or median). Here's how they accomplish this:\n",
    "\n",
    "1. Range:\n",
    "\n",
    "        a).Description:\n",
    "                    The range is the simplest measure of dispersion. It represents the difference between the highest and lowest values in the dataset.\n",
    "\n",
    "        b). Usage in Describing Spread: \n",
    "                                A larger range indicates a wider spread, suggesting that data points are more spread out from the minimum to the maximum value.\n",
    " \n",
    "\n",
    "2. Variance:\n",
    "\n",
    "            a). Description:\n",
    "                            Variance measures the average squared deviation of each data point from the mean. It quantifies the overall dispersion of the data.\n",
    "            b). Usage in Describing Spread:\n",
    "                                        Higher variance values indicate greater spread, meaning data points are more dispersed from the mean.\n",
    "\n",
    "                    \n",
    "3. Standard Deviation:\n",
    "\n",
    "                    a). Description:\n",
    "                                    The standard deviation is the square root of the variance. It provides a measure of dispersion in the original units of the data.\n",
    "                    b). Usage in Describing Spread:\n",
    "                                                    Like variance, a larger standard deviation signifies more spread-out data, while a smaller standard deviation implies \n",
    "                                                    data points are closer to the mean.\n",
    "                                \n",
    "4. Interquartile Range (IQR):\n",
    "\n",
    "                            a). Description:\n",
    "                                            The IQR is the range between the first quartile (25th percentile) and the third quartile (75th percentile) of the dataset.\n",
    "                            b). Usage in Describing Spread: \n",
    "                                                            It specifically focuses on the middle 50% of the data, providing a measure of spread that is less affected \n",
    "                                                            by extreme values (outliers).\n",
    "                                \n",
    "5. Mean Absolute Deviation (MAD):\n",
    "\n",
    "                                a). Description:\n",
    "                                                MAD is the average of the absolute differences between each data point and the mean.\n",
    "                                b). Usage in Describing Spread:\n",
    "                                                            It provides a measure of spread that is less influenced by extreme values compared to variance or standard deviation.\n",
    "                            \n",
    "6.Coefficient of Variation (CV):\n",
    "\n",
    "                                a). Description: \n",
    "                                                CV is the ratio of the standard deviation to the mean, expressed as a percentage.\n",
    "                                b). Usage in Describing Spread: \n",
    "                                                                It offers a relative measure of dispersion, allowing for comparison of spread between datasets with different\n",
    "                                                                units or scales.\n",
    "\n",
    "                                \n",
    "                                \n",
    "            These measures collectively help to characterize the variability or spread of data points within a dataset. By using them, analysts and researchers can gain a \n",
    "            deeper understanding of the distribution and reliability of the data, enabling them to make more informed decisions and draw meaningful conclusions.\n",
    "            \n",
    "            \n",
    "\n",
    "How They Work Together:\n",
    "\n",
    "                     1. Range gives a quick, intuitive sense of the spread, but it's sensitive to outliers and doesn't consider all data points. For example, in a dataset of ages, \n",
    "                            the range would simply be the difference between the oldest and youngest person, providing a straightforward measure of spread.\n",
    "\n",
    "                    2. Variance, by squaring the differences, emphasizes larger deviations more than smaller ones. This is particularly important in certain applications, \n",
    "                        such as risk assessment in finance or quality control in manufacturing. For instance, in quality control, a higher variance might indicate more variation \n",
    "                        in product dimensions, which could lead to more defects.\n",
    "\n",
    "                    3. Standard Deviation, being the square root of variance, brings the measure back to the original unit of measurement, making it more interpretable.\n",
    "                            This is especially useful when you want to communicate the spread of data in a way that is easy for others to understand. For instance, in education,\n",
    "                            if you're comparing the performance of two classes on a test, a lower standard deviation might suggest that the students' scores are more consistent.\n",
    "                            \n",
    "                            \n",
    "\n",
    "When to Use Which:\n",
    "\n",
    "                1. Range: \n",
    "                        Use when you need a quick assessment of spread. For instance, if you want to get a rough idea of how variable salaries are in a company, \n",
    "                        the range can give you a quick answer.\n",
    "\n",
    "                2. Variance:\n",
    "                            It's useful when you want a precise measure of dispersion and you're comfortable working with squared units. For example, in physics, \n",
    "                            when analyzing data with squared quantities like velocities, variance is a natural choice.\n",
    "\n",
    "                3. Standard Deviation:\n",
    "                                    It's often preferred for its interpretability. It's used in many statistical analyses and is generally the go-to measure for dispersion. \n",
    "                                    For example, in clinical trials, if you're comparing the effectiveness of two treatments, you'd likely report the mean along with \n",
    "                                    the standard deviation to give a clear picture of the spread of results.\n",
    "                                \n",
    "                                \n",
    "\n",
    "These measures are crucial in various fields, including statistics, finance, engineering, and social sciences.\n",
    "They provide insights into the variability and reliability of data, helping in making informed decisions and drawing meaningful conclusions from datasets. \n",
    "Choosing the appropriate measure depends on the nature of the data and the specific objectives of the analysis.\n",
    "\n",
    "\n",
    "\n",
    "\n",
    "\n"
   ]
  },
  {
   "cell_type": "code",
   "execution_count": null,
   "id": "855a3622-cec0-4b46-8482-39acd4d39bc7",
   "metadata": {},
   "outputs": [],
   "source": []
  },
  {
   "cell_type": "markdown",
   "id": "c4278d54-e84b-4cec-9d60-c7809ac7fe1d",
   "metadata": {},
   "source": [
    "## example"
   ]
  },
  {
   "cell_type": "raw",
   "id": "036e0e32-1150-45c2-b57c-df88d51a6a7c",
   "metadata": {},
   "source": [
    "Example: Exam Scores\n",
    "\n",
    "Consider the exam scores of two different classes (Class A and Class B) on a scale of 0 to 100:\n",
    "\n",
    "Class A: 60, 65, 70, 75, 80, 85, 90, 95\n",
    "Class B: 70, 72, 75, 78, 80, 82, 85, 88\n",
    "\n",
    "\n",
    "\n",
    "1. Range:\n",
    "\n",
    "Class A: Range = 95 - 60 = 35\n",
    "Class B: Range = 88 - 70 = 18\n",
    "                \n",
    "                    Explanation:\n",
    "                                Class A has a wider range, indicating greater variability in scores compared to Class B.\n",
    "\n",
    "\n",
    "2. Variance and Standard Deviation:\n",
    "\n",
    "Class A: Variance ≈ 182.5, Standard Deviation ≈ 13.5\n",
    "Class B: Variance ≈ 33.5, Standard Deviation ≈ 5.8\n",
    "\n",
    "                    Explanation: \n",
    "                                Class A has a higher variance and standard deviation, indicating more spread-out scores compared to Class B.\n",
    "\n",
    "\n",
    "\n",
    "3. Interquartile Range (IQR):\n",
    "\n",
    "Class A: Q3 (75th percentile) = 87.5, Q1 (25th percentile) = 67.5, IQR = Q3 - Q1 = 20\n",
    "Class B: Q3 (75th percentile) = 84, Q1 (25th percentile) = 75.75, IQR = Q3 - Q1 = 8.25\n",
    "\n",
    "\n",
    "                    Explanation:\n",
    "                                Class A has a larger IQR, indicating a wider spread in the middle 50% of scores compared to Class B.\n",
    "\n",
    "\n",
    "4. Mean Absolute Deviation (MAD):\n",
    "\n",
    "Class A: MAD ≈ 10\n",
    "Class B: MAD ≈ 5\n",
    "\n",
    "\n",
    "                    Explanation: \n",
    "                                Class A has a higher MAD, indicating greater dispersion from the mean compared to Class B.\n",
    "\n",
    "\n",
    "5. Coefficient of Variation (CV):\n",
    "\n",
    "Class A: CV ≈ 0.20 (or 20%)\n",
    "Class B: CV ≈ 0.08 (or 8%)\n",
    "\n",
    "\n",
    "                    Explanation: \n",
    "                                Class A has a higher CV, indicating a higher relative spread compared to Class B relative to their respective means.\n",
    "\n",
    "\n",
    "                    In summary, using these measures of dispersion, we can see that Class A generally has a wider spread of exam scores compared to Class B.\n",
    "                    This information is valuable for understanding the variability within each class and making decisions about areas of improvement or focus."
   ]
  },
  {
   "cell_type": "markdown",
   "id": "55dea916-2fae-44fe-92aa-95ab036312dd",
   "metadata": {},
   "source": [
    "# Q.6 What is a Venn diagram?"
   ]
  },
  {
   "cell_type": "code",
   "execution_count": null,
   "id": "e9848610-254b-462c-88b3-41ce0e496ac0",
   "metadata": {},
   "outputs": [],
   "source": []
  },
  {
   "cell_type": "raw",
   "id": "609e0589-d02f-4186-9a24-f1b9fea584db",
   "metadata": {},
   "source": [
    "A Venn diagram is a visual representation used to illustrate the relationships and similarities between different sets of data or groups.\n",
    "It consists of overlapping circles, each representing a specific set. The areas where the circles intersect represent elements \n",
    "that belong to both sets, highlighting the common elements between them.\n",
    "\n",
    "For example, in a simple two-set Venn diagram, if one circle represents \"A\" and another represents \"B\", the overlapping region shows the elements that \n",
    "are in both sets \"A\" and \"B\". The non-overlapping portions of each circle represent elements unique to each set.\n",
    "\n",
    "Venn diagrams are widely used in various fields, including mathematics, logic, statistics, and set theory. They provide a clear and intuitive way to visually represent\n",
    "the relationships between different groups or categories of data."
   ]
  },
  {
   "cell_type": "code",
   "execution_count": null,
   "id": "41461f2c-06e7-4c42-ba08-663139a4d8b5",
   "metadata": {},
   "outputs": [],
   "source": []
  },
  {
   "cell_type": "markdown",
   "id": "84c2b64d-aa35-412d-9bb5-56bbf47416d5",
   "metadata": {},
   "source": [
    "#  Q.7 For the two given sets A=92,3,4,5,6,7)  &  B=(0,2,6,8,10). find:\n",
    "# i) A intersection of B\n",
    "# ii) A union of B"
   ]
  },
  {
   "cell_type": "code",
   "execution_count": null,
   "id": "e87f1dcf-b659-4290-8901-3fbd5cf3d603",
   "metadata": {},
   "outputs": [],
   "source": []
  },
  {
   "cell_type": "markdown",
   "id": "dbf27f98-377f-48dc-855f-495a01d83d5d",
   "metadata": {},
   "source": [
    "# i) A intersection of B"
   ]
  },
  {
   "cell_type": "raw",
   "id": "4e9251b4-022e-49f1-bc75-69d690b76dad",
   "metadata": {},
   "source": [
    "A intersection of B = 6\n"
   ]
  },
  {
   "cell_type": "code",
   "execution_count": 9,
   "id": "b5e5fe66-178e-4281-b98b-577aec540e59",
   "metadata": {},
   "outputs": [],
   "source": [
    "A={92,3,4,5,6,7}\n",
    "B={0,2,6,8,10}"
   ]
  },
  {
   "cell_type": "code",
   "execution_count": 10,
   "id": "a1224232-5d0a-4265-88b5-db06d60efe4a",
   "metadata": {},
   "outputs": [
    {
     "data": {
      "text/plain": [
       "{6}"
      ]
     },
     "execution_count": 10,
     "metadata": {},
     "output_type": "execute_result"
    }
   ],
   "source": [
    "A & B"
   ]
  },
  {
   "cell_type": "markdown",
   "id": "a9d3aced-8649-440b-a5b0-069d10653992",
   "metadata": {},
   "source": [
    "# A union of B"
   ]
  },
  {
   "cell_type": "code",
   "execution_count": 11,
   "id": "cae8300f-cda5-433f-a235-c0732c37ce1a",
   "metadata": {},
   "outputs": [
    {
     "data": {
      "text/plain": [
       "{0, 2, 3, 4, 5, 6, 7, 8, 10, 92}"
      ]
     },
     "execution_count": 11,
     "metadata": {},
     "output_type": "execute_result"
    }
   ],
   "source": [
    "A | B"
   ]
  },
  {
   "cell_type": "code",
   "execution_count": null,
   "id": "3276e5dd-e871-4c74-a234-6ce9204cf76e",
   "metadata": {},
   "outputs": [],
   "source": []
  },
  {
   "cell_type": "markdown",
   "id": "bc662914-e9c4-4418-adb4-72957395348a",
   "metadata": {},
   "source": [
    "#  Q.8   what do you understand about skewness in data?"
   ]
  },
  {
   "cell_type": "code",
   "execution_count": null,
   "id": "26340a8f-bb9d-4a06-a130-fab04792d507",
   "metadata": {},
   "outputs": [],
   "source": []
  },
  {
   "cell_type": "raw",
   "id": "bb55f36f-6687-482d-83ee-9bd7f189bf41",
   "metadata": {},
   "source": [
    "Skewness in data refers to the asymmetry or lack of symmetry in the distribution of values. It indicates the direction and degree to which a dataset deviates from a \n",
    "perfectly symmetrical distribution. There are two main types of skewness:\n",
    "\n",
    "   A... Positive Skewness (Right Skew):\n",
    "                                     In a positively skewed distribution, the tail on the right side (higher values) is longer or fatter than the left side.\n",
    "                                     This means that there are more extreme values on the right side, pulling the mean higher than the median.\n",
    "\n",
    "\n",
    "    B... Negative Skewness (Left Skew): \n",
    "                                        In a negatively skewed distribution, the tail on the left side (lower values) is longer or fatter than the right side.\n",
    "                                        This indicates more extreme values on the left side, pulling the mean lower than the median.\n",
    "\n",
    "\n",
    "  Understanding skewness is important because it provides insights into the shape and characteristics of a dataset. For instance:\n",
    "\n",
    "              i). In positively skewed data, the mean tends to be greater than the median, indicating that there are some unusually high values.\n",
    "\n",
    "             ii). In negatively skewed data, the mean is typically less than the median, suggesting the presence of unusually low values.\n",
    "\n",
    "    Skewness can impact the interpretation of data and influence statistical analyses. It's a crucial aspect to consider when assessing the central tendency and spread of a dataset."
   ]
  },
  {
   "cell_type": "code",
   "execution_count": null,
   "id": "2c8a88c8-5aff-4d41-95cf-f30e464af460",
   "metadata": {},
   "outputs": [],
   "source": []
  },
  {
   "cell_type": "markdown",
   "id": "b132bd4b-93f9-4a68-ae25-a3a326c0402e",
   "metadata": {},
   "source": [
    "#  Q.9  If a data is right skewed then what will be the position of median with respect to mean?"
   ]
  },
  {
   "cell_type": "raw",
   "id": "8c9c9bbb-e19c-4b3c-b617-6b22f1cd0618",
   "metadata": {},
   "source": [
    "In a right-skewed distribution, the tail on the right-hand side (the higher values) is longer or more spread out compared to the left-hand side. \n",
    "This means that there are some high values that pull the mean towards the longer tail.\n",
    "\n",
    "   1. Mean: \n",
    "         In a right-skewed distribution, the mean is typically greater than the median. This is because the high values on the right side of the distribution \"pull\" the mean \n",
    "         in that direction.\n",
    "\n",
    "   2. Median:\n",
    "           The median, on the other hand, is less affected by extreme values or outliers. It represents the middle value, which is less influenced by the long tail of higher values.\n",
    "           Therefore, the median is typically smaller than the mean in a right-skewed distribution.\n",
    "\n",
    "   3. In a right-skewed distribution, you can visualize it as if the \"tail\" of the data is dragging the mean towards the higher values, while the median remains closer to the bulk \n",
    "       of the data.\n",
    "\n",
    "This relationship between mean and median is an important consideration when analyzing data with skewed distributions, as it provides insights into the overall shape and \n",
    "characteristics of the dataset. It also informs which measure of central tendency may be more appropriate for summarizing the data, depending on the specific \n",
    "context and the presence of outliers or extreme values."
   ]
  },
  {
   "cell_type": "code",
   "execution_count": null,
   "id": "ff25efc0-f42c-4f83-8439-462ee94d897a",
   "metadata": {},
   "outputs": [],
   "source": []
  },
  {
   "cell_type": "markdown",
   "id": "c9956018-a4de-426e-b051-a91187508229",
   "metadata": {},
   "source": [
    "# Q.10 Explain the difference between covariance and correlation. How are these measures used in statistical analysis?"
   ]
  },
  {
   "cell_type": "markdown",
   "id": "dfbd6bc3-d513-4820-952a-5a456887dfb9",
   "metadata": {},
   "source": [
    "## Explain the difference between covariance and correlation."
   ]
  },
  {
   "cell_type": "raw",
   "id": "b4e55e02-7775-474e-bd3b-439776ebcfc8",
   "metadata": {},
   "source": [
    "Covariance and correlation are both measures of the relationship between two variables in statistics, but they serve slightly different purposes:\n",
    "\n",
    "    A... Covariance:\n",
    "\n",
    "                  i). Definition:\n",
    "                                Covariance measures the degree to which two variables change together. It indicates the direction of the linear relationship between the variables.\n",
    "\n",
    "\n",
    "                 ii). Range of Values:\n",
    "                                    Covariance can take any real value, which means it can be positive, negative, or zero.\n",
    "\n",
    "\n",
    "                 iii). Units:\n",
    "                            The unit of covariance is the product of the units of the two variables being measured.\n",
    "\n",
    "\n",
    "                 iv). Scale Dependency:\n",
    "                                    The value of covariance is highly dependent on the scale of the variables. This makes it difficult to compare covariances across different datasets.\n",
    "\n",
    "\n",
    "                  v). Interpretation:\n",
    "                                    A positive covariance implies a positive relationship (both variables tend to increase or decrease together), a negative covariance implies an \n",
    "                                    inverse relationship (one variable tends to increase while the other decreases), and a covariance of zero indicates no linear relationship.\n",
    "\n",
    "\n",
    "     B... Correlation:\n",
    "\n",
    "                   i). Definition: \n",
    "                                Correlation is a standardized version of covariance. It measures the strength and direction of the linear relationship between two variables, \n",
    "                                but it's scaled to always fall between -1 and 1.\n",
    "\n",
    "\n",
    "                  ii). Range of Values:\n",
    "                                    Correlation coefficients range from -1 (perfect negative correlation) to 1 (perfect positive correlation), with 0 indicating no linear correlation.\n",
    "\n",
    "\n",
    "                  iii). Units:\n",
    "                             Correlation is a unitless measure.\n",
    "\n",
    "\n",
    "                  iv). Scale Independence: \n",
    "                                        Unlike covariance, correlation is not affected by the scale of the variables. This makes it easier to compare correlations across\n",
    "                                        different datasets.\n",
    "\n",
    "                v). Interpretation:\n",
    "                                    A correlation of 1 indicates a perfect positive linear relationship, -1 indicates a perfect negative linear relationship, \n",
    "                                    and 0 indicates no linear relationship. Values in between represent varying degrees of correlation.\n",
    "\n",
    "In summary, covariance provides information about the direction of the relationship between two variables, but it's sensitive to the scale of the variables.\n",
    "Correlation, on the other hand, standardizes this measure, allowing for easier interpretation and comparison across different datasets. \n",
    "Correlation is generally more widely used due to its standardized nature and ease of interpretation.\n",
    "\n",
    "\n",
    "\n",
    "\n"
   ]
  },
  {
   "cell_type": "markdown",
   "id": "3392cdae-7375-4559-aa7c-6b12b41a8c05",
   "metadata": {},
   "source": [
    "## How are these measures used in statistical analysis?"
   ]
  },
  {
   "cell_type": "raw",
   "id": "898dfa76-bf4a-463b-b970-f5fa63834566",
   "metadata": {},
   "source": [
    "Covariance and correlation are crucial tools in statistical analysis, used to understand the relationships between variables and make inferences about \n",
    "populations. Here's a brief overview of their applications:\n",
    "\n",
    "  A.... Covariance:\n",
    "\n",
    "                i). Describing Relationships: \n",
    "                                            Covariance provides a measure of the strength and direction of the linear relationship between two variables.\n",
    "                                            A positive covariance indicates that the variables tend to increase or decrease together, while a negative covariance indicates \n",
    "                                            an inverse relationship.\n",
    "\n",
    "\n",
    "                ii). Assessing Independence:\n",
    "                                            If two variables are independent (i.e., not related), their covariance will be close to zero. However, it's important to note that \n",
    "                                            a covariance of zero does not imply independence, as non-linear relationships can exist.\n",
    "\n",
    "\n",
    "                iii). Portfolio Theory:\n",
    "                                        In finance, covariance is used to assess the relationship between the returns of different assets in a portfolio. It helps in diversifying\n",
    "                                        investments to reduce risk.\n",
    "\n",
    "\n",
    "    B.... Correlation:\n",
    "\n",
    "                    i). Standardized Comparison: \n",
    "                                                Correlation coefficients standardize the measure of association, allowing for easy comparison across different datasets and studies. \n",
    "                                                A correlation of 1 indicates a perfect positive linear relationship, -1 indicates a perfect negative relationship, \n",
    "                                                and 0 indicates no linear relationship.\n",
    "\n",
    "\n",
    "                    ii). Regression Analysis: \n",
    "                                            Correlation is used in regression analysis to assess the strength and direction of the relationship between the dependent \n",
    "                                            variable and one or more independent variables.\n",
    "\n",
    "\n",
    "                    iii). Predictive Modeling:\n",
    "                                            Correlation can help identify which variables are strongly related to the target variable in predictive modeling, aiding in feature selection.\n",
    "\n",
    "\n",
    "                     iv). Quality Control: \n",
    "                                        In fields like manufacturing, correlation can be used to assess the relationship between different quality metrics,\n",
    "                                        helping to identify factors that affect product quality.\n",
    "\n",
    "\n",
    "                      v). Research Studies: \n",
    "                                        Correlation is widely used in scientific research to examine the strength and direction of relationships between variables. \n",
    "                                        For example, in psychology, it's used to assess associations between different psychological constructs.\n",
    "\n",
    "\n",
    "    Both covariance and correlation are essential in exploratory data analysis, hypothesis testing, and model building across various disciplines including economics,\n",
    "    finance, biology, psychology, and more. They provide valuable insights into how variables interact and contribute to a deeper understanding of complex relationships within datasets."
   ]
  },
  {
   "cell_type": "code",
   "execution_count": null,
   "id": "5435d27a-93b5-4746-beff-66654ae3b8cf",
   "metadata": {},
   "outputs": [],
   "source": []
  },
  {
   "cell_type": "markdown",
   "id": "d50832ae-5b2c-4c5e-b86f-9b298dee8c30",
   "metadata": {},
   "source": [
    "# Q.11 What is the formula for calculating the sample mean? Provide an example calculation for a dataset."
   ]
  },
  {
   "cell_type": "markdown",
   "id": "8d530699-bb6a-48cd-ab0a-ba0067401edc",
   "metadata": {},
   "source": [
    "## What is the formula for calculating the sample mean?"
   ]
  },
  {
   "cell_type": "raw",
   "id": "6bb857ae-1a8f-4304-a36a-33d3e6cb1efe",
   "metadata": {},
   "source": [
    "sample mean (x bar)= (sumasation all sample variable) and then divided by (no of sample variable)"
   ]
  },
  {
   "cell_type": "code",
   "execution_count": null,
   "id": "7b4dbe5a-2a84-4722-9f10-562daa66c423",
   "metadata": {},
   "outputs": [],
   "source": []
  },
  {
   "cell_type": "markdown",
   "id": "60541c2d-84f4-4474-875e-c5d1fddfd4da",
   "metadata": {},
   "source": [
    "## Provide an example calculation for a dataset."
   ]
  },
  {
   "cell_type": "code",
   "execution_count": 12,
   "id": "bb3959d3-5c5c-439c-a243-b384dd6e987d",
   "metadata": {},
   "outputs": [],
   "source": [
    "import numpy as np\n",
    "data=np.random.rand(25)"
   ]
  },
  {
   "cell_type": "code",
   "execution_count": 13,
   "id": "95bf71f2-ca36-4b41-8f55-9add7d8753f4",
   "metadata": {},
   "outputs": [
    {
     "data": {
      "text/plain": [
       "array([0.34803134, 0.49132773, 0.83009713, 0.99667776, 0.25722165,\n",
       "       0.06222712, 0.3502593 , 0.7090776 , 0.2911781 , 0.08749101,\n",
       "       0.86812976, 0.29467443, 0.63489558, 0.92679145, 0.98563469,\n",
       "       0.27703064, 0.61660881, 0.70769094, 0.30203162, 0.91751301,\n",
       "       0.07185635, 0.62738421, 0.98392636, 0.66878467, 0.6393957 ])"
      ]
     },
     "execution_count": 13,
     "metadata": {},
     "output_type": "execute_result"
    }
   ],
   "source": [
    "data"
   ]
  },
  {
   "cell_type": "code",
   "execution_count": 14,
   "id": "a49803b5-2583-4fee-a8ff-d736226a02c4",
   "metadata": {},
   "outputs": [
    {
     "data": {
      "text/plain": [
       "0.5578374773797536"
      ]
     },
     "execution_count": 14,
     "metadata": {},
     "output_type": "execute_result"
    }
   ],
   "source": [
    "np.mean(data)"
   ]
  },
  {
   "cell_type": "code",
   "execution_count": null,
   "id": "ec71a69b-4152-4288-bb31-54df5a962aff",
   "metadata": {},
   "outputs": [],
   "source": []
  },
  {
   "cell_type": "markdown",
   "id": "3561f791-da30-488b-a842-515ff4ea2904",
   "metadata": {},
   "source": [
    "# Q.12 For a normal distribution data what is the relationship between its measure of central tendency?"
   ]
  },
  {
   "cell_type": "raw",
   "id": "446d9af6-8a5e-4284-a610-d5929f39f3a4",
   "metadata": {},
   "source": [
    "In a normal distribution, there is a clear and specific relationship between its measures of central tendency, namely the mean, median, and mode:\n",
    "\n",
    "1. Mean (μ):\n",
    "\n",
    "            In a normal distribution, the mean is located at the center of the symmetric bell-shaped curve. It is the arithmetic average of the data points.\n",
    "            For a perfectly symmetrical normal distribution, the mean, median, and mode are all equal and coincide at the center of the distribution.\n",
    "            The mean is a measure of central tendency that can be influenced by outliers or extreme values.\n",
    "            \n",
    "            \n",
    "2. Median (also μ):\n",
    "\n",
    "                    The median is the middle value in a dataset when it is arranged in ascending or descending order. In a normal distribution, the median is also equal to the mean.\n",
    "                    In a perfectly symmetrical normal distribution, the median is at the exact center, mirroring the mean.\n",
    "            \n",
    "3. Mode (also μ):\n",
    "\n",
    "                The mode is the value that occurs with the highest frequency in a dataset. In a normal distribution, the mode is also equal to the mean and the median.\n",
    "                For a symmetrically shaped normal distribution, there is one distinct peak, and the highest point of the peak corresponds to the mode.\n",
    "\n",
    "            \n",
    "            \n",
    "            In summary, for a truly normal distribution:\n",
    "\n",
    "                        Mean (μ)=Median (μ)=Mode (μ)\n",
    "\n",
    "\n",
    "                    \n",
    "                    \n",
    "This equality holds true only for a perfect, symmetric normal distribution. In real-world scenarios, datasets may deviate from perfect normality due to various factors. \n",
    "In such cases, while the mean, median, and mode may still provide valuable information, they may not necessarily coincide. Outliers, skewness, or other departures\n",
    "from normality can lead to differences between these measures of central tendency."
   ]
  },
  {
   "cell_type": "code",
   "execution_count": null,
   "id": "7a7ac550-f5e7-4ad8-8d0b-f1ee7f97f1ae",
   "metadata": {},
   "outputs": [],
   "source": []
  },
  {
   "cell_type": "markdown",
   "id": "0fa19aa3-1be0-4daf-a46e-1196bb77a01c",
   "metadata": {},
   "source": [
    "# Q.13  How is covariance different from correlation?"
   ]
  },
  {
   "cell_type": "raw",
   "id": "844e3c3f-01ef-4074-8545-c60d2692a677",
   "metadata": {},
   "source": [
    "A... Covariance:\n",
    "\n",
    "              i). Definition:\n",
    "                            Covariance is a measure of the direction and strength of the linear relationship between two variables. It indicates how much two variables change together.\n",
    "\n",
    "              ii). Range of Values:\n",
    "                                 Covariance can take any real value, which means it can be positive, negative, or zero.\n",
    "\n",
    "              iv). Units: \n",
    "                       The unit of covariance is the product of the units of the two variables being measured.\n",
    "\n",
    "              v). Scale Dependency: \n",
    "                                Covariance is highly dependent on the scale of the variables, which can make it challenging to compare covariances across different datasets.\n",
    " \n",
    "\n",
    "\n",
    "B.... Correlation:\n",
    "\n",
    "                i). Definition:\n",
    "                                Correlation is a standardized version of covariance. It measures the strength and direction of the linear relationship between two variables, \n",
    "                                but it's scaled to always fall between -1 and 1.\n",
    " \n",
    "                ii). Range of Values:\n",
    "                                    Correlation coefficients range from -1 (perfect negative correlation) to 1 (perfect positive correlation), with 0 indicating no linear correlation.\n",
    "\n",
    "                iii). Units:\n",
    "                            Correlation is a unitless measure.\n",
    "\n",
    "                 iv). Scale Independence:\n",
    "                                        Correlation is not affected by the scale of the variables, making it easier to compare correlations across different datasets.\n",
    "\n",
    "                        \n",
    "C... Additional Advanced Concept - Multicollinearity:\n",
    "\n",
    "                 i). Multicollinearity is a phenomenon that can occur when there are high correlations between independent variables in a regression model. \n",
    "                        It makes it difficult to determine the individual effect of each variable on the dependent variable.\n",
    "\n",
    "                ii). In cases of multicollinearity, the variance inflation factor (VIF) is used to quantify how much the variance of an estimated regression coefficient increases \n",
    "                     when your predictors are correlated.\n",
    "\n",
    "                iii). Dealing with multicollinearity often involves techniques like dropping one of the correlated variables, combining them, or using more advanced regression\n",
    "                      techniques like ridge regression.\n",
    "\n",
    "Understanding the differences between covariance and correlation is crucial in choosing the appropriate measure to use in different analytical scenarios. \n",
    "Additionally, being aware of advanced concepts like multicollinearity helps in more complex analyses, particularly in regression modeling.\n",
    "\n",
    "\n",
    "\n",
    "\n"
   ]
  },
  {
   "cell_type": "code",
   "execution_count": null,
   "id": "3e75bc9c-555e-41ff-8a50-c96b3a36a391",
   "metadata": {},
   "outputs": [],
   "source": []
  },
  {
   "cell_type": "markdown",
   "id": "fa8e3c34-98c0-49a7-818c-9f0d85e8ef23",
   "metadata": {},
   "source": [
    "#  Q.14 How do outliers affect measures of central tendency and dispersion? Provide an example"
   ]
  },
  {
   "cell_type": "raw",
   "id": "d966d235-b3e0-4518-845f-2990b9fa7073",
   "metadata": {},
   "source": [
    "Outliers can have a significant impact on measures of central tendency and dispersion:\n",
    "\n",
    "A... Measures of Central Tendency:\n",
    "\n",
    "                               1. Mean:\n",
    "                                        Outliers have a pronounced effect on the mean. A single extreme value can pull the mean towards it, making it no longer representative of \n",
    "                                        the central location of the majority of the data. This is especially true in skewed distributions. In extreme cases, the mean may no longer \n",
    "                                        accurately represent the \"typical\" value.\n",
    "\n",
    "                              2.Median:\n",
    "                                    The median is less affected by outliers. It only considers the middle value, which is not influenced by extreme values. \n",
    "                                    This makes it a more robust measure of central tendency in the presence of outliers.\n",
    "\n",
    "                              3. Mode:\n",
    "                                    Outliers typically have minimal impact on the mode. The mode represents the most frequent value(s), and a single outlier doesn't significantly \n",
    "                                    alter this calculation.\n",
    "\n",
    "B... Measures of Dispersion:\n",
    "\n",
    "                        1. Range: \n",
    "                                Outliers can substantially affect the range, especially if they are far from the bulk of the data. The range is the difference between the highest \n",
    "                                and lowest values, so an outlier at either end can greatly expand the range.\n",
    "\n",
    "                        2. Standard Deviation:\n",
    "                                            Outliers can increase the standard deviation, as it measures the spread of data around the mean. If there are extreme values, \n",
    "                                            they will contribute to a wider spread. However, it's important to note that in some cases, outliers can decrease the standard deviation \n",
    "                                            if they are very close to the mean.\n",
    "\n",
    "                        3. Interquartile Range (IQR):\n",
    "                                                    The IQR is less sensitive to outliers compared to the range. It's based on the 25th and 75th percentiles, which are less \n",
    "                                                    influenced by extreme values.\n",
    "\n",
    "\n",
    "Handling outliers depends on the specific context and goals of the analysis. In some cases, it may be necessary to identify and address outliers, either by removing \n",
    "them (if they are truly erroneous data points) or by applying statistical techniques designed to mitigate their impact. It's crucial to carefully consider how outliers are \n",
    "treated to ensure accurate and meaningful interpretations of the data."
   ]
  },
  {
   "cell_type": "raw",
   "id": "6555a976-04d0-495b-bb57-4be10ff683f5",
   "metadata": {},
   "source": [
    " Let's consider an example to illustrate how outliers can affect measures of central tendency and dispersion:\n",
    "\n",
    "            Suppose we have a dataset representing the ages of individuals in a small town:\n",
    "\n",
    "                                    25,27,30,32,34,35,35,36,37,38,40,42,45,46,48,50,52,55,58,60,65,70,75,80,85,90,95,100,150\n",
    "\n",
    "    In this dataset, the majority of ages are clustered around the 30s to 60s range, but there is one extreme outlier of 150.\n",
    "\n",
    "    1. Measures of Central Tendency:\n",
    "\n",
    "                               a). Mean: \n",
    "                                      If we calculate the mean, it will be heavily influenced by the outlier (150). The mean would be considerably higher than what most \n",
    "                                      individuals' ages suggest.\n",
    "\n",
    "                              b). Median: \n",
    "                                        The median, being the middle value, is less affected by outliers. In this case, it would remain close to the central tendency of the bulk of\n",
    "                                        the data, which is around the 40s and 50s.\n",
    "\n",
    "                            c). Mode: \n",
    "                                    Since each value (except 35) occurs only once, the mode doesn't change due to the outlier.\n",
    "\n",
    "    2. Measures of Dispersion:\n",
    "\n",
    "                            a). Range:\n",
    "                                     The range would be significantly impacted by the outlier. It would be much wider because of the large difference between the outlier (150) and \n",
    "                                     the other values.\n",
    "\n",
    "                           b). Standard Deviation: \n",
    "                                                The standard deviation would also be larger because it measures the spread of data around the mean. The extreme value of 150 increases \n",
    "                                                the overall spread.\n",
    "\n",
    "                          c). Interquartile Range (IQR):\n",
    "                                                        The IQR, which is based on the 25th and 75th percentiles, is less affected by outliers. It's calculated from the middle\n",
    "                                                        portion of the data and is not influenced by extreme values.\n",
    "\n",
    " \n",
    "\n",
    "In this example, the outlier of 150 has a substantial impact on the mean, range, and standard deviation, while the median and IQR remain relatively stable. \n",
    "This demonstrates how outliers can skew measures of central tendency and dispersion and highlights the importance of considering outliers in data analysis."
   ]
  },
  {
   "cell_type": "code",
   "execution_count": null,
   "id": "859092cd-b298-4c1f-abaa-c56ee4eaee42",
   "metadata": {},
   "outputs": [],
   "source": []
  }
 ],
 "metadata": {
  "kernelspec": {
   "display_name": "Python 3 (ipykernel)",
   "language": "python",
   "name": "python3"
  },
  "language_info": {
   "codemirror_mode": {
    "name": "ipython",
    "version": 3
   },
   "file_extension": ".py",
   "mimetype": "text/x-python",
   "name": "python",
   "nbconvert_exporter": "python",
   "pygments_lexer": "ipython3",
   "version": "3.10.8"
  }
 },
 "nbformat": 4,
 "nbformat_minor": 5
}
