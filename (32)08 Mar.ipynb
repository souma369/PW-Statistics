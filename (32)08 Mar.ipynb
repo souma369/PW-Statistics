{
 "cells": [
  {
   "cell_type": "markdown",
   "id": "00962708-2328-4a47-8939-b12f509771c8",
   "metadata": {},
   "source": [
    "#                                               Statistics Advance-1"
   ]
  },
  {
   "cell_type": "code",
   "execution_count": null,
   "id": "8751017e-b24d-4dc6-8b31-d9d6522bd0d7",
   "metadata": {},
   "outputs": [],
   "source": []
  },
  {
   "cell_type": "markdown",
   "id": "438b5180-d9cb-4697-8923-2f11e4584574",
   "metadata": {},
   "source": [
    "#  Q.1  What is the Probability density function?"
   ]
  },
  {
   "cell_type": "raw",
   "id": "e4102c3d-f45c-401f-b209-a584b10cd559",
   "metadata": {},
   "source": [
    "The Probability Density Function (PDF) is a fundamental concept in probability theory and statistics. It is used to describe the likelihood of a continuous \n",
    "random variable taking on a particular value within a range.\n",
    "\n",
    "*****Here are key points about the PDF:\n",
    "\n",
    "            1. Definition:\n",
    "\n",
    "                        The PDF is a function that describes the probability distribution of a continuous random variable. It assigns probabilities to intervals rather \n",
    "                        than specific values.\n",
    "\n",
    "            2. Non-Negative and Integrates to 1:\n",
    "\n",
    "                                            The PDF is always non-negative within its range, meaning it never assigns negative probabilities.\n",
    "                                            The total area under the PDF curve over its entire range is equal to 1. This represents the total probability of all possible outcomes.\n",
    "\n",
    "            3. Probability Density:\n",
    "\n",
    "                                    Unlike a probability mass function (PMF) for discrete random variables, the PDF doesn't give the probability of a specific value. Instead, \n",
    "                                    it gives the density of probability at a particular point.\n",
    "\n",
    "            4. Area Under the Curve:\n",
    "\n",
    "                                    The probability of a continuous random variable falling within a specific interval is given by the area under the PDF curve over that interval.\n",
    "\n",
    "            5. Continuous Variables:\n",
    "\n",
    "                                    The PDF is used for continuous random variables like height, weight, time, etc., where there are infinitely many possible values within a given range.\n",
    "\n",
    "            6. Examples:\n",
    "\n",
    "                        In the case of a continuous uniform distribution, where all outcomes within a certain range are equally likely, the PDF is a horizontal line,\n",
    "                        indicating equal probability density across the range.\n",
    "\n",
    "                        In the case of a normal distribution, the PDF is bell-shaped, with higher density in the center and lower density in the tails.\n",
    "\n",
    "            7. Integration to Find Probabilities:\n",
    "\n",
    "                                                To find probabilities of events for a continuous random variable, you need to integrate the PDF over the relevant interval.\n",
    "\n",
    "                    \n",
    " The PDF is a cornerstone in continuous probability theory, allowing us to model and analyze a wide range of phenomena. Understanding the PDF is crucial for tasks like\n",
    "   hypothesis testing, confidence interval estimation, and various statistical analyses involving continuous data."
   ]
  },
  {
   "cell_type": "code",
   "execution_count": null,
   "id": "a03eafec-7ef7-47b6-997e-cab174c37fcf",
   "metadata": {},
   "outputs": [],
   "source": []
  },
  {
   "cell_type": "markdown",
   "id": "1067c2e0-08a2-460c-971b-367d3e1076bf",
   "metadata": {},
   "source": [
    "#  Q.2  What are the types of Probability distribution?"
   ]
  },
  {
   "cell_type": "raw",
   "id": "b860bbd4-0a88-4c7b-8cc0-afafb7cbfbe4",
   "metadata": {},
   "source": [
    "A... Basic Probability Distributions:\n",
    "\n",
    "          1. Discrete Uniform Distribution:\n",
    "\n",
    "                                         Description:\n",
    "                                                    Each outcome in a sample space is equally likely.\n",
    "\n",
    "                                        Example: \n",
    "                                                Rolling a fair six-sided die. Each face has an equal probability of 1/6\n",
    "\n",
    "        2. Bernoulli Distribution:\n",
    "\n",
    "                                Description:\n",
    "                                            Models a single trial of a binary experiment (success or failure).\n",
    "\n",
    "                                   Example:\n",
    "                                            Flipping a fair coin, where success (1) might represent getting heads and failure (0) getting tails. If the coin is fair, p=0.5.\n",
    "\n",
    "        3. Binomial Distribution:\n",
    "\n",
    "                                Description: \n",
    "                                            Describes the number of successes in a fixed number of Bernoulli trials.\n",
    "\n",
    "                                     Example: \n",
    "                                            Tossing a fair coin 5 times (n=5) and counting the number of heads. Here, p=0.5 (probability of getting heads on each toss).\n",
    "\n",
    "        4. Poisson Distribution:\n",
    "\n",
    "                                Description:\n",
    "                                            Models the number of events in a fixed interval of time or space, given a known average rate of occurrence.\n",
    "\n",
    "                                        Example:\n",
    "                                                Modeling the number of phone calls received by a call center in an hour, given that calls arrive randomly \n",
    "                                                at an average rate of 10 calls per hour.\n",
    "\n",
    "        5. Geometric Distribution:\n",
    "\n",
    "                                Description:\n",
    "                                            Models the number of Bernoulli trials needed to get a success for the first time. Memoryless property.\n",
    "\n",
    "                                     Example: \n",
    "                                            Tossing a coin repeatedly until the first heads appears. The number of trials needed follows a geometric distribution.\n",
    "\n",
    "    \n",
    "    \n",
    "    B... Continuous Probability Distributions:\n",
    "\n",
    "                    1. Uniform Distribution:\n",
    "\n",
    "                                        Description: \n",
    "                                                    Describes a continuous random variable that is equally likely to take any value within a specified range.\n",
    "\n",
    "                                                Example:\n",
    "                                                        A spinner with equally likely outcomes from 0 to 1. The probability of any specific value within that range is constant.\n",
    "\n",
    "                    2. Normal (Gaussian) Distribution:\n",
    "\n",
    "                                                    Description: \n",
    "                                                                Characterized by a bell-shaped curve, completely defined by its mean (μ) and standard deviation (σ).\n",
    "\n",
    "                                                            Example: The distribution of heights in a large population, where the mean (μ) is the average height and \n",
    "                                                                        the standard deviation (σ) measures the spread.\n",
    " \n",
    "                    3. Exponential Distribution:\n",
    "\n",
    "                                                Description: \n",
    "                                                            Models the time until an event occurs in a continuous process with constant event rate.\n",
    "\n",
    "                                                        Example:\n",
    "                                                                Modeling the time until a lightbulb burns out, given that it has an average lifespan of 1000 hours.\n",
    "\n",
    "                    4.Gamma Distribution:\n",
    "\n",
    "\n",
    "                                        Description:\n",
    "                                                    Generalizes the exponential distribution, used to model the waiting time for a gamma number of exponential events to occur.\n",
    "\n",
    "                                                Example: \n",
    "                                                        Representing the time until a Poisson process with rate λ experiences k events.\n",
    "\n",
    "                    5. Beta Distribution:\n",
    "\n",
    "                                        Description:\n",
    "                                                    Models random variables constrained to a finite interval (0 to 1). Often used to model proportions or probabilities.\n",
    "\n",
    "                                                Example:\n",
    "                                                        Modeling the distribution of probabilities (such as success rates) in Bayesian statistics.\n",
    " \n",
    "\n",
    "\n",
    "     C... Advanced Concepts:\n",
    "\n",
    "                        1.Multinomial Distribution:\n",
    "\n",
    "                                                Description: \n",
    "                                                            Generalizes the binomial distribution to more than two categories. Describes the number of occurrences of each category \n",
    "                                                            in a fixed number of trials.\n",
    "\n",
    "                                                    Example:\n",
    "                                                            Modeling the outcome of rolling a fair six-sided die multiple times and recording the number of occurrences of each face.\n",
    "\n",
    "                        2. Negative Binomial Distribution:\n",
    "\n",
    "                                                        Description: \n",
    "                                                                    Models the number of Bernoulli trials needed for a specified number of successes to occur.\n",
    "\n",
    "                                                            Example: \n",
    "                                                                    Tossing a coin until you get 3 heads. The number of tosses needed follows a negative binomial distribution.\n",
    "\n",
    "                        3.Chi-Squared Distribution:\n",
    "\n",
    "                                                    Description: \n",
    "                                                            Arises in hypothesis testing and is the distribution of the sum of squares of independent standard normal random variables.\n",
    "                                                \n",
    "                                                        Example: \n",
    "                                                                Testing whether the observed frequencies of different categories in a survey match the expected frequencies.\n",
    "\n",
    "                        4.F-Distribution:\n",
    "\n",
    "                                        Description:\n",
    "                                                    Used in the analysis of variance (ANOVA) and other statistical tests.\n",
    "                            \n",
    "                                                Example: \n",
    "                                                        Testing whether the variances of two or more groups are equal in ANOVA.\n",
    " \n",
    "\n",
    "   These examples illustrate the practical applications of various probability distributions in different real-world scenarios."
   ]
  },
  {
   "cell_type": "code",
   "execution_count": null,
   "id": "3f2afe4c-68b1-440d-bcfd-1ecbcba6bfef",
   "metadata": {},
   "outputs": [],
   "source": []
  },
  {
   "cell_type": "markdown",
   "id": "54433cd5-32a9-4c65-a86f-ac8cd91eaeba",
   "metadata": {},
   "source": [
    "#  Q.3 Write a python function to calculate the probability density function of a normal distribution with given mean and standard deviation at a given point."
   ]
  },
  {
   "cell_type": "code",
   "execution_count": 1,
   "id": "8c1dfe22-1eab-4685-b89d-797aa397d849",
   "metadata": {},
   "outputs": [],
   "source": [
    "import math"
   ]
  },
  {
   "cell_type": "code",
   "execution_count": 2,
   "id": "647fc457-783d-4c09-b658-862befa399de",
   "metadata": {},
   "outputs": [],
   "source": [
    "def normal_or_Gaussian_pdf(x, mean, std):\n",
    "    coefficient=1/(std*math.sqrt(2*math.pi))\n",
    "    exponent= - 0.5*((x - mean)/std)**2\n",
    "    pdf_value=coefficient*(math.exp(exponent))\n",
    "    return pdf_value"
   ]
  },
  {
   "cell_type": "code",
   "execution_count": 3,
   "id": "4cc74b2f-39fd-4779-9b84-6efafbf136ea",
   "metadata": {},
   "outputs": [
    {
     "data": {
      "text/plain": [
       "1.970198138568012e-267"
      ]
     },
     "execution_count": 3,
     "metadata": {},
     "output_type": "execute_result"
    }
   ],
   "source": [
    "normal_or_Gaussian_pdf(30,100,2)\n"
   ]
  },
  {
   "cell_type": "code",
   "execution_count": null,
   "id": "bdecfbd1-d22b-4149-b487-c792f971cdd5",
   "metadata": {},
   "outputs": [],
   "source": []
  },
  {
   "cell_type": "markdown",
   "id": "44fab7d2-21d1-4f06-912b-038d457f7793",
   "metadata": {},
   "source": [
    "#  Q.4 What are the properties of Binomial distribution? give two example of events where binomial distribution can be applied."
   ]
  },
  {
   "cell_type": "markdown",
   "id": "ab48483f-78ee-44bb-9d5e-2c820b215612",
   "metadata": {},
   "source": [
    "## What are the properties of Binomial distribution?"
   ]
  },
  {
   "cell_type": "raw",
   "id": "5c1494af-e53f-4a28-b057-7be5f939160f",
   "metadata": {},
   "source": [
    "The Binomial distribution is a discrete probability distribution widely used in statistics to model the number of successes in a fixed number of independent Bernoulli \n",
    "trials (experiments with two possible outcomes: success or failure).\n",
    "\n",
    "Here are the key properties of the Binomial distribution:\n",
    "\n",
    "        1. Fixed Number of Trials (n):\n",
    "\n",
    "                                    The Binomial distribution applies to a fixed number of trials, denoted by 'n'. Each trial can result in one of \n",
    "                                    two mutually exclusive outcomes: success or failure.\n",
    "\n",
    "        2.Independent Trials:\n",
    "\n",
    "                            Each trial must be independent of the others. The outcome of one trial does not affect the outcome of subsequent trials.\n",
    "\n",
    "        3.Probability of Success (p):\n",
    "\n",
    "                                    'p' represents the probability of success on a single trial. The probability of failure on a single trial is denoted as 'q', which is equal to 1−p.\n",
    "\n",
    "        4.Discreteness:\n",
    "\n",
    "                        The Binomial distribution is discrete, meaning it models whole numbers (0, 1, 2, ...). It describes the number of successes out of 'n' trials.\n",
    "\n",
    "        5.Probability Mass Function (PMF):\n",
    "\n",
    "                                        The probability mass function of the Binomial distribution gives the probability of observing 'k' successes in 'n' trials, and is given by:\n",
    "\n",
    "                                        P(X=k)==C(n,k) . p^k .(1−p)^n−k\n",
    " \n",
    "                                        where 'C(n, k)' is the binomial coefficient (combinations of 'n' items taken 'k' at a time).\n",
    "\n",
    "       6.Mean and Variance:\n",
    "\n",
    "                        The mean of a Binomial distribution is E[X]=np and the variance is Var(X)=npq, where 'q' is the probability of failure.\n",
    "\n",
    "        7.Symmetry (for p = 0.5):\n",
    "\n",
    "                                When p=0.5, the Binomial distribution is symmetric. This occurs in cases where the probability of success and failure are equal.\n",
    "\n",
    "        8.Shape and Skewness:\n",
    "\n",
    "                            The shape of the Binomial distribution becomes increasingly symmetric as 'n' increases. However, for small 'n' and extreme values of 'p',\n",
    "                            it can be quite skewed.\n",
    "\n",
    "        9.Approximation to Normal (for large n):\n",
    "\n",
    "                                                When 'n' is large and 'p' is not too close to 0 or 1, the Binomial distribution can be approximated by the Normal\n",
    "                                                distribution using the Central Limit Theorem.\n",
    "\n",
    "        10.Applications:\n",
    "\n",
    "                        The Binomial distribution is used in a wide range of applications, including quality control, biology (e.g., genetics), finance (e.g., option pricing),\n",
    "                        and many other fields.\n",
    "\n",
    "\n",
    "    Understanding the properties of the Binomial distribution is essential for accurately modeling and analyzing situations involving a fixed number of trials with binary outcomes."
   ]
  },
  {
   "cell_type": "markdown",
   "id": "59136736-00b0-4013-8119-cd32eb2a67e8",
   "metadata": {},
   "source": [
    "## give two example of events where binomial distribution can be applied."
   ]
  },
  {
   "cell_type": "raw",
   "id": "37dc70ef-d9e1-4b59-8822-bfb0f1575eec",
   "metadata": {},
   "source": [
    " The Binomial distribution is applicable in various real-world scenarios where we have a fixed number of independent trials, each with two possible outcomes (success or failure). Here are two examples:\n",
    "\n",
    " A.. Example 1: Quality Control in Manufacturing:\n",
    "\n",
    "                    1.Scenario: \n",
    "                                A manufacturing company produces light bulbs, and they want to ensure a certain percentage meet quality standards. Each bulb is tested, \n",
    "                                and it either passes (success) or fails (failure).\n",
    "\n",
    "\n",
    "                    2.Parameters:\n",
    "\n",
    "                                a). n: Number of bulbs tested in a batch (fixed number of trials).\n",
    "\n",
    "                                b). p: Probability that a bulb passes the quality test (probability of success).\n",
    "                                c). q=1−p: Probability that a bulb fails the quality test (probability of failure).\n",
    "\n",
    "                    3.Application:\n",
    "\n",
    "                            The company can use the Binomial distribution to calculate the probability of a specific number of bulbs passing the quality test out of a batch of n bulbs.\n",
    "\n",
    "                            \n",
    "                            \n",
    "                            \n",
    "  B..Example 2: Election Outcomes:\n",
    "\n",
    "                        1.Scenario:\n",
    "                                    In a local election, a candidate is running for office. Each registered voter has a choice between two candidates (candidate A or candidate B).\n",
    "\n",
    "\n",
    "                        2.Parameters:\n",
    "                                    a). n: Total number of registered voters who cast their votes (fixed number of trials).\n",
    "                                    b). p: Probability that a voter supports candidate A (probability of success).\n",
    "                                    c). q=1−p: Probability that a voter supports candidate B (probability of failure).\n",
    "\n",
    "                        3.Application:\n",
    "                                        The Binomial distribution can be used to estimate the probability of candidate A winning a certain number of votes out of the total\n",
    "                                        cast in the election.\n",
    "\n",
    "                                    \n",
    "                                    \n",
    "    In both examples, the Binomial distribution is applicable because we have a fixed number of independent trials (e.g., testing bulbs, casting votes), and each \n",
    "    trial has two possible outcomes (success or failure). By specifying the parameters n and p, we can use the Binomial probability mass function to calculate probabilities \n",
    "    associated with different outcomes of interest. This allows for informed decision-making and planning based on probabilistic models.\n"
   ]
  },
  {
   "cell_type": "markdown",
   "id": "6a740875-6a93-49bf-9991-0e8cf5d0154d",
   "metadata": {},
   "source": [
    "# Q.5  Generate a random sample of size 1000 from a binomial distribution with probability of success 0.4 and plot a histogram of the results using matplotlib."
   ]
  },
  {
   "cell_type": "code",
   "execution_count": 4,
   "id": "53d730f6-d195-4912-9f56-0cbfc884e101",
   "metadata": {},
   "outputs": [],
   "source": [
    "import numpy as np\n",
    "sample_size=1000\n",
    "probability_of_success=0.4\n"
   ]
  },
  {
   "cell_type": "code",
   "execution_count": 5,
   "id": "49c5745d-c472-4e1b-b46f-8b755d4234c1",
   "metadata": {},
   "outputs": [],
   "source": [
    "random_sample=np.random.binomial(7,0.4,1000)\n"
   ]
  },
  {
   "cell_type": "code",
   "execution_count": 6,
   "id": "6e5deb6a-ef5f-4880-8126-89e723520edf",
   "metadata": {},
   "outputs": [],
   "source": [
    "import matplotlib.pyplot as plt"
   ]
  },
  {
   "cell_type": "code",
   "execution_count": 7,
   "id": "ceb8c49e-164d-4045-aa38-53544e3effd4",
   "metadata": {},
   "outputs": [
    {
     "data": {
      "text/plain": [
       "(array([ 26.,   0., 137.,   0., 255.,   0., 282.,   0., 192.,   0.,  78.,\n",
       "          0.,  28.,   0.,   2.]),\n",
       " array([0.        , 0.46666667, 0.93333333, 1.4       , 1.86666667,\n",
       "        2.33333333, 2.8       , 3.26666667, 3.73333333, 4.2       ,\n",
       "        4.66666667, 5.13333333, 5.6       , 6.06666667, 6.53333333,\n",
       "        7.        ]),\n",
       " <BarContainer object of 15 artists>)"
      ]
     },
     "execution_count": 7,
     "metadata": {},
     "output_type": "execute_result"
    },
    {
     "data": {
      "image/png": "[encoded data removed]",
      "text/plain": [
       "<Figure size 640x480 with 1 Axes>"
      ]
     },
     "metadata": {},
     "output_type": "display_data"
    }
   ],
   "source": [
    "plt.hist(random_sample, bins=15)"
   ]
  },
  {
   "cell_type": "code",
   "execution_count": null,
   "id": "7af053f8-e6ac-4aa3-ad87-def0abf75d24",
   "metadata": {},
   "outputs": [],
   "source": []
  },
  {
   "cell_type": "markdown",
   "id": "d003c8ac-cb69-4e70-a888-f1c8418540ae",
   "metadata": {},
   "source": [
    "# Q.6 Write a python function to calculate the cumulative distribution function of a poisson distribution with given mean at a given point."
   ]
  },
  {
   "cell_type": "code",
   "execution_count": 8,
   "id": "76c22a2a-158c-4584-96f0-cd27ff19c308",
   "metadata": {},
   "outputs": [],
   "source": [
    "import math"
   ]
  },
  {
   "cell_type": "code",
   "execution_count": 9,
   "id": "81165d2e-d80c-47be-84f3-783511d4d4de",
   "metadata": {},
   "outputs": [],
   "source": [
    "def poisson_cdf(x,l):\n",
    "    numerator=(math.exp(-l))*(l**x)\n",
    "    denominator=math.factorial(x)\n",
    "    cdf=numerator/denominator\n",
    "    return cdf"
   ]
  },
  {
   "cell_type": "code",
   "execution_count": 10,
   "id": "4a20f45b-a6bc-4bb4-9d33-4b63c04bb4a1",
   "metadata": {},
   "outputs": [
    {
     "data": {
      "text/plain": [
       "0.14037389581428056"
      ]
     },
     "execution_count": 10,
     "metadata": {},
     "output_type": "execute_result"
    }
   ],
   "source": [
    "poisson_cdf(3,5)"
   ]
  },
  {
   "cell_type": "code",
   "execution_count": null,
   "id": "891355d5-f57d-487b-8fb3-3c5bd95592b8",
   "metadata": {},
   "outputs": [],
   "source": []
  },
  {
   "cell_type": "code",
   "execution_count": null,
   "id": "7844cb71-8d03-445e-8107-6e9ddc7d2248",
   "metadata": {},
   "outputs": [],
   "source": []
  },
  {
   "cell_type": "markdown",
   "id": "ae990e41-31e9-468f-b56b-877869b977e7",
   "metadata": {},
   "source": [
    "# Q.7 How Binomial distribution different from Poisson distributions?"
   ]
  },
  {
   "cell_type": "code",
   "execution_count": null,
   "id": "996f9333-cbd4-4ac5-b9f7-9d81d9af6ddb",
   "metadata": {},
   "outputs": [],
   "source": []
  },
  {
   "cell_type": "raw",
   "id": "8740dcd6-1e31-4f14-a484-9a5a5fdc90e9",
   "metadata": {},
   "source": [
    "The Binomial and Poisson distributions are both discrete probability distributions used to model events in different scenarios. Here are the key differences between them:\n",
    "\n",
    "1. Nature of Events:\n",
    "\n",
    "                 a). Binomial Distribution:\n",
    "\n",
    "                                            i).Deals with a fixed number of independent trials, each having two possible outcomes (success or failure).\n",
    "\n",
    "                                            ii).The trials are identical and the probability of success (p) remains constant for each trial.\n",
    "                \n",
    "                 b).Poisson Distribution:\n",
    "\n",
    "                                        i).Models the number of events occurring in a fixed interval of time or space.\n",
    "\n",
    "                                        ii).Events are random and can occur at any point in time or space.\n",
    " \n",
    "\n",
    "\n",
    " 2. Number of Trials:\n",
    "\n",
    "                    a).Binomial Distribution:\n",
    "\n",
    "                                            Requires a fixed number of trials (n) to be specified in advance.\n",
    "\n",
    "                    b).Poisson Distribution:\n",
    "\n",
    "                                            Does not require a fixed number of trials. It deals with the number of events in a continuous range.\n",
    " \n",
    "\n",
    " 3. Probability Parameters:\n",
    "\n",
    "                            a).Binomial Distribution:\n",
    "\n",
    "                                                    Defined by two parameters: the number of trials (n) and the probability of success (p).\n",
    "\n",
    "                            b).Poisson Distribution:\n",
    "\n",
    "                                                    Defined by one parameter (λ), which represents the average rate of occurrence of events in the given interval.\n",
    " \n",
    "\n",
    " 4. Limiting Case:\n",
    "\n",
    "                a).Binomial Distribution:\n",
    "                                        Approximates a Poisson distribution as the number of trials (n) becomes very large and the probability of success (p) becomes very small, \n",
    "                                        while keeping the product np roughly constant.\n",
    " \n",
    "\n",
    " 5. Continuous vs. Discrete:\n",
    "\n",
    "                            a).Binomial Distribution:\n",
    "\n",
    "                                                    Discrete distribution, as it deals with a finite or countable number of discrete events (trials).\n",
    "\n",
    "                            b).Poisson Distribution:\n",
    "\n",
    "                                                    Discrete distribution, but it can also approximate continuous events when the rate (λ) is very large.\n",
    " \n",
    "\n",
    " 6. Examples of Applications:\n",
    "\n",
    "                            a).Binomial Distribution:\n",
    "\n",
    "                                                    Quality control in manufacturing, election outcomes, success/failure in clinical trials, etc.\n",
    "\n",
    "                            b).Poisson Distribution:\n",
    "\n",
    "                                                    Modeling rare events like accidents in a given time period, radioactive decay events, the number of phone calls in a call \n",
    "                                                    center per minute, etc.\n",
    " \n",
    "\n",
    " 7. Variance and Mean Relationship:\n",
    "\n",
    "                            a).Binomial Distribution:\n",
    "\n",
    "                                                    The variance is npq, where q=1−p. The mean is np.\n",
    "            \n",
    "                            b).Poisson Distribution:\n",
    "\n",
    "                                                    The variance is also λ, which is equal to the mean.\n",
    "\n",
    "While both distributions have their unique applications, understanding the characteristics and appropriate use cases for each is crucial for accurate modeling and interpretation\n",
    "of real-world events."
   ]
  },
  {
   "cell_type": "code",
   "execution_count": null,
   "id": "d7560a13-d928-47d3-b94e-79aab9a00f2e",
   "metadata": {},
   "outputs": [],
   "source": []
  },
  {
   "cell_type": "markdown",
   "id": "c068e40b-f6a7-4acd-b64b-2aa4ddd76cd2",
   "metadata": {},
   "source": [
    "#  Q.8 Generate a random sample of size 1000 from a Poisson distribution with mean 5 and calculate the sample mean and variance."
   ]
  },
  {
   "cell_type": "code",
   "execution_count": 11,
   "id": "3619fc77-379b-4d68-bebc-a58c5e52b5fd",
   "metadata": {},
   "outputs": [],
   "source": [
    "import numpy as np"
   ]
  },
  {
   "cell_type": "code",
   "execution_count": 12,
   "id": "c464042c-e7be-4fdf-abf3-4d3aacb72a65",
   "metadata": {},
   "outputs": [],
   "source": [
    "sample=np.random.poisson(5,1000)"
   ]
  },
  {
   "cell_type": "code",
   "execution_count": 13,
   "id": "d82ffaab-6427-4552-8d6b-5e9b27444311",
   "metadata": {},
   "outputs": [
    {
     "data": {
      "text/plain": [
       "5.063"
      ]
     },
     "execution_count": 13,
     "metadata": {},
     "output_type": "execute_result"
    }
   ],
   "source": [
    "sample.mean()"
   ]
  },
  {
   "cell_type": "code",
   "execution_count": 14,
   "id": "eafd46a8-46d3-4763-8b2c-98fecc95d484",
   "metadata": {},
   "outputs": [
    {
     "data": {
      "text/plain": [
       "5.063"
      ]
     },
     "execution_count": 14,
     "metadata": {},
     "output_type": "execute_result"
    }
   ],
   "source": [
    "np.mean(sample)"
   ]
  },
  {
   "cell_type": "code",
   "execution_count": 15,
   "id": "21b9fe1d-7d67-41f9-aa87-44c3a583d9c4",
   "metadata": {},
   "outputs": [
    {
     "data": {
      "text/plain": [
       "5.349031000000001"
      ]
     },
     "execution_count": 15,
     "metadata": {},
     "output_type": "execute_result"
    }
   ],
   "source": [
    "np.var(sample)"
   ]
  },
  {
   "cell_type": "code",
   "execution_count": 16,
   "id": "16b591e7-8858-4685-b1a6-ccd7ec97fbc8",
   "metadata": {},
   "outputs": [
    {
     "data": {
      "text/plain": [
       "5.349031000000001"
      ]
     },
     "execution_count": 16,
     "metadata": {},
     "output_type": "execute_result"
    }
   ],
   "source": [
    "sample.var()"
   ]
  },
  {
   "cell_type": "code",
   "execution_count": null,
   "id": "eba14340-2b7a-4cff-a0d9-84dd86e7f5c1",
   "metadata": {},
   "outputs": [],
   "source": []
  },
  {
   "cell_type": "markdown",
   "id": "c58f046d-5a57-43cb-a5fb-d8feeeb77a37",
   "metadata": {},
   "source": [
    "#  Q.9 How mean and Variance are related in Binomial distribution and Poisson distribution?"
   ]
  },
  {
   "cell_type": "raw",
   "id": "19bdb81c-3869-4b84-bfd2-ed1adad38cb0",
   "metadata": {},
   "source": [
    "In both the Binomial and Poisson distributions, there is an important relationship between the mean and the variance:\n",
    "\n",
    "A... Binomial Distribution:\n",
    "\n",
    "                    i). Mean (μ):\n",
    "                                In a Binomial distribution, the mean (μ) is calculated as np, where 'n' is the number of trials and 'p' is the probability of success on a single trial.\n",
    "\n",
    "                    ii).Variance (σ²): \n",
    "                                    The variance (σ²) of a Binomial distribution is calculated as npq, where 'q' is the probability of failure on a single trial (q=1−p).\n",
    "\n",
    "\n",
    "B... Poisson Distribution:\n",
    "\n",
    "                      i). Mean (λ): \n",
    "                                 In a Poisson distribution, the mean (λ) is equal to the average rate of occurrence of events in a given interval.\n",
    "\n",
    "                     ii). Variance (σ²):\n",
    "                                        The variance (σ²) of a Poisson distribution is also equal to λ, which is the mean.\n",
    "\n",
    "\n",
    "C... Advanced Concept:\n",
    "\n",
    "                        In both distributions, this relationship highlights an interesting and important property:\n",
    "\n",
    "                        The variance of a Binomial distribution approaches the variance of a Poisson distribution as the number of trials 'n' becomes very large and the probability \n",
    "                        of success 'p' becomes very small, while keeping the product np roughly constant.\n",
    "                        This convergence is known as the Poisson approximation to the Binomial distribution. It occurs when events are rare (low 'p' and large 'n') but the average \n",
    "                        number of successes (np) remains approximately constant. In such cases, the Poisson distribution provides a simpler and computationally more tractable model\n",
    "                        for the number of successes.\n",
    "\n",
    "Understanding this relationship allows for the application of the Poisson distribution in situations where modeling with a Binomial distribution might be impractical due to a large\n",
    "number of trials or very small probabilities of success.\n"
   ]
  },
  {
   "cell_type": "code",
   "execution_count": null,
   "id": "fc8b6bea-a2b9-49e5-9d9d-6a4e84db3ed2",
   "metadata": {},
   "outputs": [],
   "source": []
  },
  {
   "cell_type": "markdown",
   "id": "a3ef77cb-e2bd-4d6f-8499-6e3c1f2b4984",
   "metadata": {},
   "source": [
    "#  Q.10 In normal distribution with respect to mean position, where does the least frequent data appear?"
   ]
  },
  {
   "cell_type": "raw",
   "id": "eadd9901-524a-47b5-896e-1f00727bc89c",
   "metadata": {},
   "source": [
    "In a normal distribution, the least frequent data points appear in the tails of the distribution, farthest away from the mean.\n",
    "\n",
    "    A normal distribution is symmetric, and the mean (average) is located at the center of the distribution. As you move away from the mean in either direction, towards the tails, \n",
    "    the data values become less frequent. The tails of a normal distribution contain the extreme values, which are less likely to occur compared to values closer to the mean.\n",
    "\n",
    "                                            In a standard normal distribution (with a mean of 0 and a standard deviation of 1), approximately 68% of the data falls within one \n",
    "                                            standard deviation of the mean,about 95% falls within two standard deviations, and about 99.7% falls within three standard deviations.\n",
    "                                            Therefore, the data in the tails (beyond three standard deviations from the mean)are relatively rare and represent the least frequent \n",
    "                                            observations in the distribution.\n",
    "\n",
    "\n",
    "In a normal distribution, the least frequent data points appear in the tails, which are located at the extremes, farthest away from the mean. This pattern holds true for any normal \n",
    "distribution, regardless of its specific mean and standard deviation.\n",
    "\n",
    "Here are some additional points and advanced knowledge about normal distributions:\n",
    "\n",
    "         1. Empirical Rule:\n",
    "\n",
    "                           a). The Empirical Rule, also known as the 68-95-99.7 Rule, provides a guideline for the proportion of data within certain intervals around the mean in \n",
    "                                a normal distribution.\n",
    "                            b).It states that approximately:68% of the data falls within one standard deviation of the mean.95% falls within two standard deviations.\n",
    "                                99.7% falls within three standard deviations.\n",
    "            \n",
    "        2.Symmetry:\n",
    "\n",
    "                    The normal distribution is symmetric, meaning it is identical on both sides of the mean. The mean, median, and mode are all located at the same point.\n",
    "\n",
    "        3.Bell-Shaped Curve:\n",
    "\n",
    "                            A normal distribution is often represented by a bell-shaped curve when graphed. It is characterized by a peak at the mean and symmetrically \n",
    "                            tapering towards the tails.\n",
    "\n",
    "        4.Z-Scores:\n",
    "\n",
    "                    Z-scores (also called standard scores) are a measure of how many standard deviations a particular data point is from the mean. They are used to compare data \n",
    "                    points from different normal distributions.\n",
    "\n",
    "        5.Probability Density Function (PDF):\n",
    "\n",
    "                                            The PDF of a normal distribution is described by the familiar bell-shaped curve. It gives the probability of observing a value within a \n",
    "                                            specific range.\n",
    "\n",
    "        6.Applications:\n",
    "\n",
    "                        Normal distributions are found in many natural phenomena, such as height measurements, IQ scores, and various biological attributes. They are also fundamental \n",
    "                        in statistics and often serve as a reference for other distributions.\n",
    "\n",
    "        7.Central Limit Theorem (CLT):\n",
    "\n",
    "                                    The CLT states that the sampling distribution of the sample mean approaches a normal distribution as the sample size increases, regardless of \n",
    "                                    the shape of the population distribution.\n",
    "\n",
    "        8.Transformations:\n",
    "\n",
    "                        Many real-world phenomena can be modeled by transforming data to approximate a normal distribution. Common transformations include logarithmic,\n",
    "                        square root, and Box-Cox transformations.\n",
    "\n",
    "\n",
    "    Understanding the characteristics and properties of normal distributions is crucial for various statistical analyses and is foundational to a wide range of fields, \n",
    "    including economics, psychology, biology, and engineering."
   ]
  },
  {
   "cell_type": "code",
   "execution_count": null,
   "id": "d78bb9b5-a254-4985-ab7a-753c2fc41d86",
   "metadata": {},
   "outputs": [],
   "source": []
  }
 ],
 "metadata": {
  "kernelspec": {
   "display_name": "Python 3 (ipykernel)",
   "language": "python",
   "name": "python3"
  },
  "language_info": {
   "codemirror_mode": {
    "name": "ipython",
    "version": 3
   },
   "file_extension": ".py",
   "mimetype": "text/x-python",
   "name": "python",
   "nbconvert_exporter": "python",
   "pygments_lexer": "ipython3",
   "version": "3.10.8"
  }
 },
 "nbformat": 4,
 "nbformat_minor": 5
}
